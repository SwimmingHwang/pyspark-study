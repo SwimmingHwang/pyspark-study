{
 "cells": [
  {
   "cell_type": "code",
   "execution_count": 1,
   "metadata": {},
   "outputs": [
    {
     "data": {
      "text/html": [
       "<style scoped>\n",
       "  .ansiout {\n",
       "    display: block;\n",
       "    unicode-bidi: embed;\n",
       "    white-space: pre-wrap;\n",
       "    word-wrap: break-word;\n",
       "    word-break: break-all;\n",
       "    font-family: \"Source Code Pro\", \"Menlo\", monospace;;\n",
       "    font-size: 13px;\n",
       "    color: #555;\n",
       "    margin-left: 4px;\n",
       "    line-height: 19px;\n",
       "  }\n",
       "</style>\n",
       "<div class=\"ansiout\"></div>"
      ]
     },
     "metadata": {},
     "output_type": "display_data"
    }
   ],
   "source": [
    "# library\n",
    "from pyspark.sql.functions import udf, when, col, first, last, avg, lit\n",
    "from pyspark.sql.types import BooleanType, IntegerType, StringType, DateType, FloatType\n",
    "import pandas as pd\n",
    "import numpy as np\n",
    "from pyspark.sql import SparkSession\n",
    "import time, datetime\n",
    "\n",
    "# SparkSessjon 객체 생성 -> 모든 Spark 작업의 시작점\n",
    "spark = SparkSession \\\n",
    ".builder \\\n",
    ".appName(\"Homework\") \\\n",
    ".getOrCreate()"
   ]
  },
  {
   "cell_type": "code",
   "execution_count": 2,
   "metadata": {},
   "outputs": [
    {
     "data": {
      "text/html": [
       "<style scoped>\n",
       "  .ansiout {\n",
       "    display: block;\n",
       "    unicode-bidi: embed;\n",
       "    white-space: pre-wrap;\n",
       "    word-wrap: break-word;\n",
       "    word-break: break-all;\n",
       "    font-family: \"Source Code Pro\", \"Menlo\", monospace;;\n",
       "    font-size: 13px;\n",
       "    color: #555;\n",
       "    margin-left: 4px;\n",
       "    line-height: 19px;\n",
       "  }\n",
       "</style>\n",
       "<div class=\"ansiout\"></div>"
      ]
     },
     "metadata": {},
     "output_type": "display_data"
    }
   ],
   "source": [
    "# Csv File Read\n",
    "step_df = spark.read.load(\"/FileStore/tables/step_data.csv\", format=\"csv\", sep=\",\",  header = 'True', inferSchema='True')\n",
    "weight_df = spark.read.load(\"/FileStore/tables/weight_data_float.csv\", format=\"csv\", sep=\",\",  header = 'True', inferSchema='True')\n",
    "glucose_df = spark.read.load(\"/FileStore/tables/glucose_data_float.csv\", format=\"csv\", sep=\",\", header = 'True', inferSchema='True')\n"
   ]
  },
  {
   "cell_type": "code",
   "execution_count": 3,
   "metadata": {},
   "outputs": [
    {
     "data": {
      "text/html": [
       "<style scoped>\n",
       "  .ansiout {\n",
       "    display: block;\n",
       "    unicode-bidi: embed;\n",
       "    white-space: pre-wrap;\n",
       "    word-wrap: break-word;\n",
       "    word-break: break-all;\n",
       "    font-family: \"Source Code Pro\", \"Menlo\", monospace;;\n",
       "    font-size: 13px;\n",
       "    color: #555;\n",
       "    margin-left: 4px;\n",
       "    line-height: 19px;\n",
       "  }\n",
       "</style>\n",
       "<div class=\"ansiout\">root\n",
       "-- uid: integer (nullable = true)\n",
       "-- day_time: long (nullable = true)\n",
       "-- step_count: integer (nullable = true)\n",
       "-- country_cd: string (nullable = true)\n",
       "-- gender: string (nullable = true)\n",
       "-- age_group: string (nullable = true)\n",
       "\n",
       "root\n",
       "-- uid: integer (nullable = true)\n",
       "-- measurement_time: long (nullable = true)\n",
       "-- weight: double (nullable = true)\n",
       "-- country_cd: string (nullable = true)\n",
       "-- gender: string (nullable = true)\n",
       "-- age_group: string (nullable = true)\n",
       "\n",
       "root\n",
       "-- uid: integer (nullable = true)\n",
       "-- measurement_time: long (nullable = true)\n",
       "-- glucose: double (nullable = true)\n",
       "-- country_cd: string (nullable = true)\n",
       "-- gender: string (nullable = true)\n",
       "-- age_group: string (nullable = true)\n",
       "\n",
       "</div>"
      ]
     },
     "metadata": {},
     "output_type": "display_data"
    }
   ],
   "source": [
    "# data type check\n",
    "step_df.printSchema()\n",
    "weight_df.printSchema()\n",
    "glucose_df.printSchema()"
   ]
  },
  {
   "cell_type": "code",
   "execution_count": 4,
   "metadata": {},
   "outputs": [
    {
     "data": {
      "text/html": [
       "<style scoped>\n",
       "  .ansiout {\n",
       "    display: block;\n",
       "    unicode-bidi: embed;\n",
       "    white-space: pre-wrap;\n",
       "    word-wrap: break-word;\n",
       "    word-break: break-all;\n",
       "    font-family: \"Source Code Pro\", \"Menlo\", monospace;;\n",
       "    font-size: 13px;\n",
       "    color: #555;\n",
       "    margin-left: 4px;\n",
       "    line-height: 19px;\n",
       "  }\n",
       "</style>\n",
       "<div class=\"ansiout\"></div>"
      ]
     },
     "metadata": {},
     "output_type": "display_data"
    }
   ],
   "source": [
    "# data type 바꿔주는 함수 선언\n",
    "\n",
    "# NA 값을 null로 변경하기\n",
    "def cleanString(value):\n",
    "  if(value == None) or ('null' in value):\n",
    "    return None\n",
    "  else:\n",
    "    return value\n",
    "\n",
    "# 유닉스시간을 Date Type으로 변경\n",
    "def stringToDate(value):\n",
    "  if value is None:\n",
    "    return None\n",
    "  else:\n",
    "    return datetime.datetime.fromtimestamp(float(float(value)/float(1000)))\n"
   ]
  },
  {
   "cell_type": "code",
   "execution_count": 5,
   "metadata": {},
   "outputs": [
    {
     "data": {
      "text/html": [
       "<style scoped>\n",
       "  .ansiout {\n",
       "    display: block;\n",
       "    unicode-bidi: embed;\n",
       "    white-space: pre-wrap;\n",
       "    word-wrap: break-word;\n",
       "    word-break: break-all;\n",
       "    font-family: \"Source Code Pro\", \"Menlo\", monospace;;\n",
       "    font-size: 13px;\n",
       "    color: #555;\n",
       "    margin-left: 4px;\n",
       "    line-height: 19px;\n",
       "  }\n",
       "</style>\n",
       "<div class=\"ansiout\"></div>"
      ]
     },
     "metadata": {},
     "output_type": "display_data"
    }
   ],
   "source": [
    "# 3개 dataframe의 attribute 형변환\n",
    "cleanStringFunction = udf(cleanString, StringType())\n",
    "cleanDateFunction = udf(stringToDate, DateType())\n",
    "\n",
    "step_df = step_df \\\n",
    "    .withColumn(\n",
    "      'day_time', cleanDateFunction('day_time'))\\\n",
    "    .withColumn(\n",
    "      # null로 변경\n",
    "      'age_group', cleanStringFunction('age_group')) \\\n",
    "    .withColumn(\n",
    "      # null로 변경\n",
    "      'gender', cleanStringFunction('gender'))\n",
    "\n",
    "weight_df = weight_df \\\n",
    "    .withColumn(\n",
    "      'measurement_time', cleanDateFunction('measurement_time'))\\\n",
    "    .withColumn(\n",
    "      # null로 변경\n",
    "      'gender', cleanStringFunction('gender'))\n",
    "\n",
    "glucose_df = glucose_df \\\n",
    "    .withColumn(\n",
    "      'measurement_time', cleanDateFunction('measurement_time'))\\\n",
    "    .withColumn(\n",
    "      # null로 변경\n",
    "      'gender', cleanStringFunction('gender'))\n"
   ]
  },
  {
   "cell_type": "code",
   "execution_count": 6,
   "metadata": {},
   "outputs": [
    {
     "data": {
      "text/html": [
       "<style scoped>\n",
       "  .ansiout {\n",
       "    display: block;\n",
       "    unicode-bidi: embed;\n",
       "    white-space: pre-wrap;\n",
       "    word-wrap: break-word;\n",
       "    word-break: break-all;\n",
       "    font-family: \"Source Code Pro\", \"Menlo\", monospace;;\n",
       "    font-size: 13px;\n",
       "    color: #555;\n",
       "    margin-left: 4px;\n",
       "    line-height: 19px;\n",
       "  }\n",
       "</style>\n",
       "<div class=\"ansiout\">+---+----------+----------+----------+------+---------+\n",
       "uid|  day_time|step_count|country_cd|gender|age_group|\n",
       "+---+----------+----------+----------+------+---------+\n",
       "  1|2020-04-13|      9843|        US|     M|       10|\n",
       "  2|2020-04-13|      3456|        BR|     M|       20|\n",
       "  3|2020-04-13|      2346|        KR|  null|       30|\n",
       "  4|2020-04-13|      7543|        GB|     F|       40|\n",
       "  5|2020-04-13|      2345|        DE|     F|       50|\n",
       "  6|2020-04-13|     11234|        FR|  null|     null|\n",
       "  7|2020-04-13|     14566|        TR|     F|       20|\n",
       "  8|2020-04-13|      3345|        RU|     M|       30|\n",
       "  9|2020-04-13|      3356|        IN|     M|       40|\n",
       " 10|2020-04-13|      7754|        KR|     M|       50|\n",
       "+---+----------+----------+----------+------+---------+\n",
       "\n",
       "+---+----------------+-------+----------+------+---------+\n",
       "uid|measurement_time| weight|country_cd|gender|age_group|\n",
       "+---+----------------+-------+----------+------+---------+\n",
       "  1|      2020-04-13|   76.0|        US|     M|       10|\n",
       "  2|      2020-04-13|87.0898|        BR|     M|       20|\n",
       "  3|      2020-04-13|  116.8|        KR|  null|     null|\n",
       "  4|      2020-04-12|   57.0|        GB|     F|       40|\n",
       "  5|      2020-04-13|80.5581|        DE|     F|       50|\n",
       "  6|      2020-04-13|  106.5|        FR|  null|       30|\n",
       "  7|      2020-04-13|   92.0|        TR|     F|       20|\n",
       "  8|      2020-04-13|   77.5|        RU|     M|       30|\n",
       "  9|      2020-04-13|77.3829|        IN|     M|       40|\n",
       " 10|      2020-04-13|   90.0|        KR|     M|       50|\n",
       "+---+----------------+-------+----------+------+---------+\n",
       "\n",
       "+---+----------------+---------+----------+------+---------+\n",
       "uid|measurement_time|  glucose|country_cd|gender|age_group|\n",
       "+---+----------------+---------+----------+------+---------+\n",
       "  1|      2020-04-13|7.0477247|        US|     M|       10|\n",
       "  2|      2020-04-13| 7.769145|        BR|     M|       20|\n",
       "  3|      2020-04-13|14.872364|        KR|  null|       30|\n",
       "  4|      2020-04-12| 7.325194|        GB|     F|       40|\n",
       "  5|      2020-04-13| 7.214206|        DE|     F|       50|\n",
       "  6|      2020-04-13| 8.324084|        FR|  null|     null|\n",
       "  7|      2020-04-13| 5.216426|        TR|     F|       20|\n",
       "  8|      2020-04-13|4.9944506|        RU|     M|       30|\n",
       "  9|      2020-04-13| 7.321594|        IN|     M|       40|\n",
       " 10|      2020-04-13|7.0200223|        KR|     M|       50|\n",
       "+---+----------------+---------+----------+------+---------+\n",
       "\n",
       "</div>"
      ]
     },
     "metadata": {},
     "output_type": "display_data"
    }
   ],
   "source": [
    "step_df.show()\n",
    "weight_df.show()\n",
    "glucose_df.show()"
   ]
  },
  {
   "cell_type": "code",
   "execution_count": 7,
   "metadata": {},
   "outputs": [
    {
     "data": {
      "text/html": [
       "<style scoped>\n",
       "  .ansiout {\n",
       "    display: block;\n",
       "    unicode-bidi: embed;\n",
       "    white-space: pre-wrap;\n",
       "    word-wrap: break-word;\n",
       "    word-break: break-all;\n",
       "    font-family: \"Source Code Pro\", \"Menlo\", monospace;;\n",
       "    font-size: 13px;\n",
       "    color: #555;\n",
       "    margin-left: 4px;\n",
       "    line-height: 19px;\n",
       "  }\n",
       "</style>\n",
       "<div class=\"ansiout\"></div>"
      ]
     },
     "metadata": {},
     "output_type": "display_data"
    }
   ],
   "source": [
    "# Sanity Check\n",
    "glucose_df = glucose_df.withColumn(\"glucose\", when(col(\"glucose\").isNull() , None).otherwise(col(\"glucose\")))\\\n",
    "                         .withColumn(\"glucose\", when(col(\"glucose\") <= 0, None).otherwise(col(\"glucose\")))\\\n",
    "                        .withColumn(\"glucose\", when(col(\"glucose\") <= 5, 5).otherwise(col(\"glucose\")))\\\n",
    "                        .withColumn(\"glucose\", when(col(\"glucose\") >= 95, 95).otherwise(col(\"glucose\")))"
   ]
  },
  {
   "cell_type": "code",
   "execution_count": 8,
   "metadata": {},
   "outputs": [
    {
     "data": {
      "text/html": [
       "<style scoped>\n",
       "  .ansiout {\n",
       "    display: block;\n",
       "    unicode-bidi: embed;\n",
       "    white-space: pre-wrap;\n",
       "    word-wrap: break-word;\n",
       "    word-break: break-all;\n",
       "    font-family: \"Source Code Pro\", \"Menlo\", monospace;;\n",
       "    font-size: 13px;\n",
       "    color: #555;\n",
       "    margin-left: 4px;\n",
       "    line-height: 19px;\n",
       "  }\n",
       "</style>\n",
       "<div class=\"ansiout\">+---+----------------+-----------+\n",
       "uid|measurement_time|avg(weight)|\n",
       "+---+----------------+-----------+\n",
       "  1|      2020-04-13|       76.0|\n",
       "  2|      2020-04-13|    87.0898|\n",
       "  3|      2020-04-13|      116.8|\n",
       "  4|      2020-04-12|       57.0|\n",
       "  5|      2020-04-13|    80.5581|\n",
       "  6|      2020-04-13|      106.5|\n",
       "  7|      2020-04-13|       92.0|\n",
       "  8|      2020-04-13|       77.5|\n",
       "  9|      2020-04-13|    77.3829|\n",
       " 10|      2020-04-13|       90.0|\n",
       "+---+----------------+-----------+\n",
       "\n",
       "+---+----------------+------------+\n",
       "uid|measurement_time|avg(glucose)|\n",
       "+---+----------------+------------+\n",
       "  1|      2020-04-13|   7.0477247|\n",
       "  2|      2020-04-13|    7.769145|\n",
       "  3|      2020-04-13|   14.872364|\n",
       "  4|      2020-04-12|    7.325194|\n",
       "  5|      2020-04-13|    7.214206|\n",
       "  6|      2020-04-13|    8.324084|\n",
       "  7|      2020-04-13|    5.216426|\n",
       "  8|      2020-04-13|         5.0|\n",
       "  9|      2020-04-13|    7.321594|\n",
       " 10|      2020-04-13|   7.0200223|\n",
       "+---+----------------+------------+\n",
       "\n",
       "</div>"
      ]
     },
     "metadata": {},
     "output_type": "display_data"
    }
   ],
   "source": [
    "# 하루에 여러 번 측정이 가능한 데이터 하루치 평균으로 처리\n",
    "weight_daily_df = weight_df.groupBy('uid','measurement_time')\\\n",
    ".mean('weight')\\\n",
    ".orderBy('uid')\n",
    "weight_daily_df.show()\n",
    "\n",
    "glucose_daily_df = glucose_df.groupBy('uid','measurement_time')\\\n",
    ".mean('glucose')\\\n",
    ".orderBy('uid')\n",
    "glucose_daily_df.show()\n"
   ]
  },
  {
   "cell_type": "markdown",
   "metadata": {},
   "source": [
    "# 과제1"
   ]
  },
  {
   "cell_type": "code",
   "execution_count": 10,
   "metadata": {},
   "outputs": [
    {
     "data": {
      "text/html": [
       "<style scoped>\n",
       "  .ansiout {\n",
       "    display: block;\n",
       "    unicode-bidi: embed;\n",
       "    white-space: pre-wrap;\n",
       "    word-wrap: break-word;\n",
       "    word-break: break-all;\n",
       "    font-family: \"Source Code Pro\", \"Menlo\", monospace;;\n",
       "    font-size: 13px;\n",
       "    color: #555;\n",
       "    margin-left: 4px;\n",
       "    line-height: 19px;\n",
       "  }\n",
       "</style>\n",
       "<div class=\"ansiout\">+----------+---------+-------+---------+\n",
       "step_count|age_group| weight|  glucose|\n",
       "+----------+---------+-------+---------+\n",
       "    9843.0|       10|   76.0|7.0477247|\n",
       "    3456.0|       20|87.0898| 7.769145|\n",
       "    2346.0|       30|  116.8|14.872364|\n",
       "    7543.0|       40|   57.0| 7.325194|\n",
       "    2345.0|       50|80.5581| 7.214206|\n",
       "   11234.0|     null|  106.5| 8.324084|\n",
       "   14566.0|       20|   92.0| 5.216426|\n",
       "    3345.0|       30|   77.5|      5.0|\n",
       "    3356.0|       40|77.3829| 7.321594|\n",
       "    7754.0|       50|   90.0|7.0200223|\n",
       "+----------+---------+-------+---------+\n",
       "\n",
       "</div>"
      ]
     },
     "metadata": {},
     "output_type": "display_data"
    }
   ],
   "source": [
    "# 과제 1 \n",
    "# method 1 - 테이블을 uid당 각 데이터(step_count, weight, glucose) 전체 평균이라고 생각\n",
    "step_mean_df = step_df.groupBy('uid', 'age_group').mean('step_count')\n",
    "weight_mean_df = weight_df.groupBy('uid').mean('weight')\n",
    "glucose_mean_df = glucose_df.groupBy('uid').mean('glucose')\n",
    "\n",
    "joined_mean_df = step_mean_df.join(weight_mean_df, (step_mean_df['uid'] == weight_mean_df['uid']),)\\\n",
    "       .join(glucose_mean_df, (step_mean_df['uid'] == glucose_mean_df['uid']),)\\\n",
    "        .orderBy(step_mean_df['uid'])\n",
    "\n",
    "joined_mean_aligned_df = joined_mean_df\\\n",
    "  .select(step_mean_df['avg(step_count)'].alias('step_count'), step_mean_df['age_group'],\\\n",
    "          weight_mean_df['avg(weight)'].alias('weight'), glucose_mean_df['avg(glucose)'].alias('glucose'))\n",
    "joined_mean_aligned_df.show()\n"
   ]
  },
  {
   "cell_type": "code",
   "execution_count": 11,
   "metadata": {},
   "outputs": [
    {
     "data": {
      "text/html": [
       "<style scoped>\n",
       "  .ansiout {\n",
       "    display: block;\n",
       "    unicode-bidi: embed;\n",
       "    white-space: pre-wrap;\n",
       "    word-wrap: break-word;\n",
       "    word-break: break-all;\n",
       "    font-family: \"Source Code Pro\", \"Menlo\", monospace;;\n",
       "    font-size: 13px;\n",
       "    color: #555;\n",
       "    margin-left: 4px;\n",
       "    line-height: 19px;\n",
       "  }\n",
       "</style>\n",
       "<div class=\"ansiout\">+----------+---------+-------+---------+\n",
       "step_count|age_group| weight|  glucose|\n",
       "+----------+---------+-------+---------+\n",
       "      9843|       10|   76.0|7.0477247|\n",
       "      3456|       20|87.0898| 7.769145|\n",
       "      2346|       30|  116.8|14.872364|\n",
       "      7543|       40|   57.0| 7.325194|\n",
       "      2345|       50|80.5581| 7.214206|\n",
       "     11234|     null|  106.5| 8.324084|\n",
       "     14566|       20|   92.0| 5.216426|\n",
       "      3345|       30|   77.5|      5.0|\n",
       "      3356|       40|77.3829| 7.321594|\n",
       "      7754|       50|   90.0|7.0200223|\n",
       "+----------+---------+-------+---------+\n",
       "\n",
       "</div>"
      ]
     },
     "metadata": {},
     "output_type": "display_data"
    }
   ],
   "source": [
    "# method 2 - uid로 세 테이블 단순 조인이라고 생각 \n",
    "# 하루치 평균 테이블로 치환 후, 세 테이블 조인\n",
    "joined_df = step_df.join(weight_daily_df, (step_df['uid'] == weight_daily_df['uid']),)\\\n",
    "       .join(glucose_daily_df, (step_df['uid'] == glucose_daily_df['uid']),)\n",
    "\n",
    "joined_aligned_df = joined_df\\\n",
    "  .select(step_df['step_count'], step_df['age_group'], weight_daily_df['avg(weight)'].alias('weight'), glucose_daily_df['avg(glucose)'].alias('glucose'))\n",
    "\n",
    "# Homework 1-1 Output \n",
    "joined_aligned_df.show()"
   ]
  },
  {
   "cell_type": "markdown",
   "metadata": {},
   "source": [
    "# 과제2"
   ]
  },
  {
   "cell_type": "code",
   "execution_count": 13,
   "metadata": {},
   "outputs": [
    {
     "data": {
      "text/html": [
       "<style scoped>\n",
       "  .ansiout {\n",
       "    display: block;\n",
       "    unicode-bidi: embed;\n",
       "    white-space: pre-wrap;\n",
       "    word-wrap: break-word;\n",
       "    word-break: break-all;\n",
       "    font-family: \"Source Code Pro\", \"Menlo\", monospace;;\n",
       "    font-size: 13px;\n",
       "    color: #555;\n",
       "    margin-left: 4px;\n",
       "    line-height: 19px;\n",
       "  }\n",
       "</style>\n",
       "<div class=\"ansiout\">+---+----------+----------+\n",
       "uid|  day_time|step_count|\n",
       "+---+----------+----------+\n",
       "  1|2020-04-13|      9843|\n",
       "  2|2020-04-13|      3456|\n",
       "  3|2020-04-13|      2346|\n",
       "  4|2020-04-13|      7543|\n",
       "  5|2020-04-13|      2345|\n",
       "  6|2020-04-13|     11234|\n",
       "  7|2020-04-13|     14566|\n",
       "  8|2020-04-13|      3345|\n",
       "  9|2020-04-13|      3356|\n",
       " 10|2020-04-13|      7754|\n",
       "+---+----------+----------+\n",
       "\n",
       "+---+----------------+-----------+\n",
       "uid|measurement_time|avg(weight)|\n",
       "+---+----------------+-----------+\n",
       "  1|      2020-04-13|       76.0|\n",
       "  2|      2020-04-13|    87.0898|\n",
       "  3|      2020-04-13|      116.8|\n",
       "  4|      2020-04-12|       57.0|\n",
       "  5|      2020-04-13|    80.5581|\n",
       "  6|      2020-04-13|      106.5|\n",
       "  7|      2020-04-13|       92.0|\n",
       "  8|      2020-04-13|       77.5|\n",
       "  9|      2020-04-13|    77.3829|\n",
       " 10|      2020-04-13|       90.0|\n",
       "+---+----------------+-----------+\n",
       "\n",
       "+---+----------------+------------+\n",
       "uid|measurement_time|avg(glucose)|\n",
       "+---+----------------+------------+\n",
       "  1|      2020-04-13|   7.0477247|\n",
       "  2|      2020-04-13|    7.769145|\n",
       "  3|      2020-04-13|   14.872364|\n",
       "  4|      2020-04-12|    7.325194|\n",
       "  5|      2020-04-13|    7.214206|\n",
       "  6|      2020-04-13|    8.324084|\n",
       "  7|      2020-04-13|    5.216426|\n",
       "  8|      2020-04-13|         5.0|\n",
       "  9|      2020-04-13|    7.321594|\n",
       " 10|      2020-04-13|   7.0200223|\n",
       "+---+----------------+------------+\n",
       "\n",
       "</div>"
      ]
     },
     "metadata": {},
     "output_type": "display_data"
    }
   ],
   "source": [
    "step_daily_df = step_df.select('uid','day_time','step_count')\n",
    "step_daily_df.show()\n",
    "weight_daily_df.show()\n",
    "glucose_daily_df.show()"
   ]
  },
  {
   "cell_type": "code",
   "execution_count": 14,
   "metadata": {},
   "outputs": [
    {
     "data": {
      "text/html": [
       "<style scoped>\n",
       "  .ansiout {\n",
       "    display: block;\n",
       "    unicode-bidi: embed;\n",
       "    white-space: pre-wrap;\n",
       "    word-wrap: break-word;\n",
       "    word-break: break-all;\n",
       "    font-family: \"Source Code Pro\", \"Menlo\", monospace;;\n",
       "    font-size: 13px;\n",
       "    color: #555;\n",
       "    margin-left: 4px;\n",
       "    line-height: 19px;\n",
       "  }\n",
       "</style>\n",
       "<div class=\"ansiout\"></div>"
      ]
     },
     "metadata": {},
     "output_type": "display_data"
    }
   ],
   "source": [
    "# uid list 얻기 \n",
    "uid_list_df = step_daily_df.select('uid').distinct().union(\\\n",
    "weight_daily_df.select('uid').distinct()).union(\\\n",
    "glucose_daily_df.select('uid').distinct()).distinct().orderBy('uid')"
   ]
  },
  {
   "cell_type": "code",
   "execution_count": 15,
   "metadata": {},
   "outputs": [
    {
     "data": {
      "text/html": [
       "<style scoped>\n",
       "  .ansiout {\n",
       "    display: block;\n",
       "    unicode-bidi: embed;\n",
       "    white-space: pre-wrap;\n",
       "    word-wrap: break-word;\n",
       "    word-break: break-all;\n",
       "    font-family: \"Source Code Pro\", \"Menlo\", monospace;;\n",
       "    font-size: 13px;\n",
       "    color: #555;\n",
       "    margin-left: 4px;\n",
       "    line-height: 19px;\n",
       "  }\n",
       "</style>\n",
       "<div class=\"ansiout\">+---+----------+----------+----------+------+---------+\n",
       "uid|  day_time|step_count|country_cd|gender|age_group|\n",
       "+---+----------+----------+----------+------+---------+\n",
       "  1|2020-04-13|      9843|        US|     M|       10|\n",
       "  2|2020-04-13|      3456|        BR|     M|       20|\n",
       "  3|2020-04-13|      2346|        KR|  null|       30|\n",
       "  4|2020-04-13|      7543|        GB|     F|       40|\n",
       "  5|2020-04-13|      2345|        DE|     F|       50|\n",
       "  6|2020-04-13|     11234|        FR|  null|     null|\n",
       "  7|2020-04-13|     14566|        TR|     F|       20|\n",
       "  8|2020-04-13|      3345|        RU|     M|       30|\n",
       "  9|2020-04-13|      3356|        IN|     M|       40|\n",
       " 10|2020-04-13|      7754|        KR|     M|       50|\n",
       "+---+----------+----------+----------+------+---------+\n",
       "\n",
       "+---+----------------+-------+----------+------+---------+\n",
       "uid|measurement_time| weight|country_cd|gender|age_group|\n",
       "+---+----------------+-------+----------+------+---------+\n",
       "  1|      2020-04-13|   76.0|        US|     M|       10|\n",
       "  2|      2020-04-13|87.0898|        BR|     M|       20|\n",
       "  3|      2020-04-13|  116.8|        KR|  null|     null|\n",
       "  4|      2020-04-12|   57.0|        GB|     F|       40|\n",
       "  5|      2020-04-13|80.5581|        DE|     F|       50|\n",
       "  6|      2020-04-13|  106.5|        FR|  null|       30|\n",
       "  7|      2020-04-13|   92.0|        TR|     F|       20|\n",
       "  8|      2020-04-13|   77.5|        RU|     M|       30|\n",
       "  9|      2020-04-13|77.3829|        IN|     M|       40|\n",
       " 10|      2020-04-13|   90.0|        KR|     M|       50|\n",
       "+---+----------------+-------+----------+------+---------+\n",
       "\n",
       "</div>"
      ]
     },
     "metadata": {},
     "output_type": "display_data"
    }
   ],
   "source": [
    "step_df.show()\n",
    "weight_df.show()"
   ]
  },
  {
   "cell_type": "code",
   "execution_count": 16,
   "metadata": {},
   "outputs": [
    {
     "data": {
      "text/html": [
       "<style scoped>\n",
       "  .ansiout {\n",
       "    display: block;\n",
       "    unicode-bidi: embed;\n",
       "    white-space: pre-wrap;\n",
       "    word-wrap: break-word;\n",
       "    word-break: break-all;\n",
       "    font-family: \"Source Code Pro\", \"Menlo\", monospace;;\n",
       "    font-size: 13px;\n",
       "    color: #555;\n",
       "    margin-left: 4px;\n",
       "    line-height: 19px;\n",
       "  }\n",
       "</style>\n",
       "<div class=\"ansiout\">+---+----------+----------+----------+------+---------+---+----------------+-------+----------+------+---------+---+----------------+---------+----------+------+---------+\n",
       "uid|  day_time|step_count|country_cd|gender|age_group|uid|measurement_time| weight|country_cd|gender|age_group|uid|measurement_time|  glucose|country_cd|gender|age_group|\n",
       "+---+----------+----------+----------+------+---------+---+----------------+-------+----------+------+---------+---+----------------+---------+----------+------+---------+\n",
       "  1|2020-04-13|      9843|        US|     M|       10|  1|      2020-04-13|   76.0|        US|     M|       10|  1|      2020-04-13|7.0477247|        US|     M|       10|\n",
       "  2|2020-04-13|      3456|        BR|     M|       20|  2|      2020-04-13|87.0898|        BR|     M|       20|  2|      2020-04-13| 7.769145|        BR|     M|       20|\n",
       "  3|2020-04-13|      2346|        KR|  null|       30|  3|      2020-04-13|  116.8|        KR|  null|     null|  3|      2020-04-13|14.872364|        KR|  null|       30|\n",
       "  4|2020-04-13|      7543|        GB|     F|       40|  4|      2020-04-12|   57.0|        GB|     F|       40|  4|      2020-04-12| 7.325194|        GB|     F|       40|\n",
       "  5|2020-04-13|      2345|        DE|     F|       50|  5|      2020-04-13|80.5581|        DE|     F|       50|  5|      2020-04-13| 7.214206|        DE|     F|       50|\n",
       "  6|2020-04-13|     11234|        FR|  null|     null|  6|      2020-04-13|  106.5|        FR|  null|       30|  6|      2020-04-13| 8.324084|        FR|  null|     null|\n",
       "  7|2020-04-13|     14566|        TR|     F|       20|  7|      2020-04-13|   92.0|        TR|     F|       20|  7|      2020-04-13| 5.216426|        TR|     F|       20|\n",
       "  8|2020-04-13|      3345|        RU|     M|       30|  8|      2020-04-13|   77.5|        RU|     M|       30|  8|      2020-04-13|      5.0|        RU|     M|       30|\n",
       "  9|2020-04-13|      3356|        IN|     M|       40|  9|      2020-04-13|77.3829|        IN|     M|       40|  9|      2020-04-13| 7.321594|        IN|     M|       40|\n",
       " 10|2020-04-13|      7754|        KR|     M|       50| 10|      2020-04-13|   90.0|        KR|     M|       50| 10|      2020-04-13|7.0200223|        KR|     M|       50|\n",
       "+---+----------+----------+----------+------+---------+---+----------------+-------+----------+------+---------+---+----------------+---------+----------+------+---------+\n",
       "\n",
       "</div>"
      ]
     },
     "metadata": {},
     "output_type": "display_data"
    }
   ],
   "source": [
    "info_df = step_df.join(weight_df, (step_df['uid'] == weight_df['uid'])  ,'full_outer' )\\\n",
    "  .join(glucose_df, (step_df['uid'] == glucose_df['uid'])  ,'full_outer' )\\\n",
    ".orderBy(step_df['uid'])\n",
    "info_df.show()"
   ]
  },
  {
   "cell_type": "code",
   "execution_count": 17,
   "metadata": {},
   "outputs": [
    {
     "data": {
      "text/html": [
       "<style scoped>\n",
       "  .ansiout {\n",
       "    display: block;\n",
       "    unicode-bidi: embed;\n",
       "    white-space: pre-wrap;\n",
       "    word-wrap: break-word;\n",
       "    word-break: break-all;\n",
       "    font-family: \"Source Code Pro\", \"Menlo\", monospace;;\n",
       "    font-size: 13px;\n",
       "    color: #555;\n",
       "    margin-left: 4px;\n",
       "    line-height: 19px;\n",
       "  }\n",
       "</style>\n",
       "<div class=\"ansiout\"></div>"
      ]
     },
     "metadata": {},
     "output_type": "display_data"
    }
   ],
   "source": [
    "info_df = info_df.select(step_df['uid'].alias('step_uid'),weight_df['uid'].alias('weight_uid'),glucose_df['uid'].alias('glucose_uid'),\\\n",
    "              step_df['country_cd'].alias('step_country_cd'), weight_df['country_cd'].alias('weight_country_cd'),glucose_df['country_cd'].alias('glucose_country_cd'),\\\n",
    "              step_df['gender'].alias('step_gender'), weight_df['gender'].alias('weight_gender'),glucose_df['gender'].alias('glucose_gender'),\\\n",
    "              step_df['age_group'].alias('step_age_group'), weight_df['age_group'].alias('weight_age_group'),glucose_df['age_group'].alias('glucose_age_group'))"
   ]
  },
  {
   "cell_type": "code",
   "execution_count": 18,
   "metadata": {},
   "outputs": [
    {
     "data": {
      "text/html": [
       "<style scoped>\n",
       "  .ansiout {\n",
       "    display: block;\n",
       "    unicode-bidi: embed;\n",
       "    white-space: pre-wrap;\n",
       "    word-wrap: break-word;\n",
       "    word-break: break-all;\n",
       "    font-family: \"Source Code Pro\", \"Menlo\", monospace;;\n",
       "    font-size: 13px;\n",
       "    color: #555;\n",
       "    margin-left: 4px;\n",
       "    line-height: 19px;\n",
       "  }\n",
       "</style>\n",
       "<div class=\"ansiout\">+--------+----------+-----------+---------------+-----------------+------------------+-----------+-------------+--------------+--------------+----------------+-----------------+\n",
       "step_uid|weight_uid|glucose_uid|step_country_cd|weight_country_cd|glucose_country_cd|step_gender|weight_gender|glucose_gender|step_age_group|weight_age_group|glucose_age_group|\n",
       "+--------+----------+-----------+---------------+-----------------+------------------+-----------+-------------+--------------+--------------+----------------+-----------------+\n",
       "       1|         1|          1|             US|               US|                US|          M|            M|             M|            10|              10|               10|\n",
       "       2|         2|          2|             BR|               BR|                BR|          M|            M|             M|            20|              20|               20|\n",
       "       3|         3|          3|             KR|               KR|                KR|       null|         null|          null|            30|            null|               30|\n",
       "       4|         4|          4|             GB|               GB|                GB|          F|            F|             F|            40|              40|               40|\n",
       "       5|         5|          5|             DE|               DE|                DE|          F|            F|             F|            50|              50|               50|\n",
       "       6|         6|          6|             FR|               FR|                FR|       null|         null|          null|            30|              30|             null|\n",
       "       7|         7|          7|             TR|               TR|                TR|          F|            F|             F|            20|              20|               20|\n",
       "       8|         8|          8|             RU|               RU|                RU|          M|            M|             M|            30|              30|               30|\n",
       "       9|         9|          9|             IN|               IN|                IN|          M|            M|             M|            40|              40|               40|\n",
       "      10|        10|         10|             KR|               KR|                KR|          M|            M|             M|            50|              50|               50|\n",
       "+--------+----------+-----------+---------------+-----------------+------------------+-----------+-------------+--------------+--------------+----------------+-----------------+\n",
       "\n",
       "</div>"
      ]
     },
     "metadata": {},
     "output_type": "display_data"
    }
   ],
   "source": [
    "# Imputation using 3 tables\n",
    "# step table을 기준으로 missing data를 채워준다\n",
    "info_imputing_df = info_df.withColumn(\"step_uid\", when(col(\"step_uid\").isNull(),  when(col(\"weight_uid\").isNull(), col(\"glucose_uid\") ).otherwise(col(\"weight_uid\")) ).otherwise(col(\"step_uid\")))\\\n",
    ".withColumn(\"step_gender\", when(col(\"step_gender\").isNull(),  when(col(\"weight_gender\").isNull(), col(\"glucose_gender\") ).otherwise(col(\"weight_gender\")) ).otherwise(col(\"step_gender\")))\\\n",
    ".withColumn(\"step_country_cd\", when(col(\"step_country_cd\").isNull(),  when(col(\"weight_country_cd\").isNull(), col(\"glucose_country_cd\") ).otherwise(col(\"weight_country_cd\")) ).otherwise(col(\"step_country_cd\")))\\\n",
    ".withColumn(\"step_age_group\", when(col(\"step_age_group\").isNull(),  when(col(\"weight_age_group\").isNull(), col(\"glucose_age_group\") ).otherwise(col(\"weight_age_group\")) ).otherwise(col(\"step_age_group\")))\n",
    "info_imputing_df.show()"
   ]
  },
  {
   "cell_type": "code",
   "execution_count": 19,
   "metadata": {},
   "outputs": [
    {
     "data": {
      "text/html": [
       "<style scoped>\n",
       "  .ansiout {\n",
       "    display: block;\n",
       "    unicode-bidi: embed;\n",
       "    white-space: pre-wrap;\n",
       "    word-wrap: break-word;\n",
       "    word-break: break-all;\n",
       "    font-family: \"Source Code Pro\", \"Menlo\", monospace;;\n",
       "    font-size: 13px;\n",
       "    color: #555;\n",
       "    margin-left: 4px;\n",
       "    line-height: 19px;\n",
       "  }\n",
       "</style>\n",
       "<div class=\"ansiout\">+---+----------+------+---------+\n",
       "uid|country_cd|gender|age_group|\n",
       "+---+----------+------+---------+\n",
       "  1|        US|     M|       10|\n",
       "  2|        BR|     M|       20|\n",
       "  3|        KR|  null|       30|\n",
       "  4|        GB|     F|       40|\n",
       "  5|        DE|     F|       50|\n",
       "  6|        FR|  null|       30|\n",
       "  7|        TR|     F|       20|\n",
       "  8|        RU|     M|       30|\n",
       "  9|        IN|     M|       40|\n",
       " 10|        KR|     M|       50|\n",
       "+---+----------+------+---------+\n",
       "\n",
       "</div>"
      ]
     },
     "metadata": {},
     "output_type": "display_data"
    }
   ],
   "source": [
    "info_imputed_df = info_imputing_df\\\n",
    ".select(info_imputing_df.step_uid.alias('uid'),\\\n",
    "        info_imputing_df.step_country_cd.alias('country_cd'),\\\n",
    "        info_imputing_df.step_gender.alias('gender'),\\\n",
    "        info_imputing_df.step_age_group.alias( 'age_group'))\\\n",
    ".orderBy('uid')\n",
    "info_imputed_df.show()"
   ]
  },
  {
   "cell_type": "code",
   "execution_count": 20,
   "metadata": {},
   "outputs": [
    {
     "data": {
      "text/html": [
       "<style scoped>\n",
       "  .ansiout {\n",
       "    display: block;\n",
       "    unicode-bidi: embed;\n",
       "    white-space: pre-wrap;\n",
       "    word-wrap: break-word;\n",
       "    word-break: break-all;\n",
       "    font-family: \"Source Code Pro\", \"Menlo\", monospace;;\n",
       "    font-size: 13px;\n",
       "    color: #555;\n",
       "    margin-left: 4px;\n",
       "    line-height: 19px;\n",
       "  }\n",
       "</style>\n",
       "<div class=\"ansiout\"></div>"
      ]
     },
     "metadata": {},
     "output_type": "display_data"
    }
   ],
   "source": [
    "# uid list data와 country_cd, gender, age_group 조인\n",
    "res1 = uid_list_df.join(info_imputed_df, uid_list_df['uid'] == info_imputed_df['uid'])\\\n",
    ".drop(info_imputed_df['uid'])"
   ]
  },
  {
   "cell_type": "code",
   "execution_count": 21,
   "metadata": {},
   "outputs": [
    {
     "data": {
      "text/html": [
       "<style scoped>\n",
       "  .ansiout {\n",
       "    display: block;\n",
       "    unicode-bidi: embed;\n",
       "    white-space: pre-wrap;\n",
       "    word-wrap: break-word;\n",
       "    word-break: break-all;\n",
       "    font-family: \"Source Code Pro\", \"Menlo\", monospace;;\n",
       "    font-size: 13px;\n",
       "    color: #555;\n",
       "    margin-left: 4px;\n",
       "    line-height: 19px;\n",
       "  }\n",
       "</style>\n",
       "<div class=\"ansiout\">+-----+------------+\n",
       "uid_s|2020-04-13_s|\n",
       "+-----+------------+\n",
       "    1|        9843|\n",
       "    6|       11234|\n",
       "    3|        2346|\n",
       "    5|        2345|\n",
       "    9|        3356|\n",
       "    4|        7543|\n",
       "    8|        3345|\n",
       "    7|       14566|\n",
       "   10|        7754|\n",
       "    2|        3456|\n",
       "+-----+------------+\n",
       "\n",
       "+-----+------------+------------+\n",
       "uid_w|2020-04-12_w|2020-04-13_w|\n",
       "+-----+------------+------------+\n",
       "    1|        null|        76.0|\n",
       "    2|        null|     87.0898|\n",
       "    3|        null|       116.8|\n",
       "    4|        57.0|        null|\n",
       "    5|        null|     80.5581|\n",
       "    6|        null|       106.5|\n",
       "    7|        null|        92.0|\n",
       "    8|        null|        77.5|\n",
       "    9|        null|     77.3829|\n",
       "   10|        null|        90.0|\n",
       "+-----+------------+------------+\n",
       "\n",
       "+-----+------------+------------------+\n",
       "uid_g|2020-04-12_g|      2020-04-13_g|\n",
       "+-----+------------+------------------+\n",
       "    1|        null|       126.8590446|\n",
       "    2|        null|         139.84461|\n",
       "    3|        null|267.70255199999997|\n",
       "    4|  131.853492|              null|\n",
       "    5|        null|        129.855708|\n",
       "    6|        null|149.83351199999998|\n",
       "    7|        null|         93.895668|\n",
       "    8|        null|              90.0|\n",
       "    9|        null|        131.788692|\n",
       "   10|        null|       126.3604014|\n",
       "+-----+------------+------------------+\n",
       "\n",
       "</div>"
      ]
     },
     "metadata": {},
     "output_type": "display_data"
    }
   ],
   "source": [
    "# Data Reshaping\n",
    "\n",
    "# 이미 weight,glucose table의 데이터를 일일 평균 데이터로 치환했기에 avg말고 first를 사용했습니다.\n",
    "step_reshaped_df = step_daily_df.groupBy('uid').pivot(\"day_time\").agg(first(col(\"step_count\")))\n",
    "step_reshaped_df = step_reshaped_df.withColumnRenamed(\"uid\", \"uid_s\").withColumnRenamed(\"2020-04-13\", \"2020-04-13_s\")\n",
    "step_reshaped_df.show()\n",
    "weight_reshaped_df = weight_daily_df.groupBy('uid').pivot(\"measurement_time\").agg(first(col(\"avg(weight)\")))\n",
    "weight_reshaped_df = weight_reshaped_df.withColumnRenamed(\"uid\", \"uid_w\").withColumnRenamed(\"2020-04-12\", \"2020-04-12_w\")\\\n",
    "       .withColumnRenamed(\"2020-04-13\", \"2020-04-13_w\")\n",
    "weight_reshaped_df.show()\n",
    "glucose_reshaped_df = glucose_daily_df.groupBy('uid').pivot(\"measurement_time\").agg(first(col(\"avg(glucose)\")*18))\n",
    "glucose_reshaped_df = glucose_reshaped_df.withColumnRenamed(\"uid\", \"uid_g\").withColumnRenamed(\"2020-04-12\", \"2020-04-12_g\")\\\n",
    "       .withColumnRenamed(\"2020-04-13\", \"2020-04-13_g\")\n",
    "glucose_reshaped_df.show()"
   ]
  },
  {
   "cell_type": "code",
   "execution_count": 22,
   "metadata": {},
   "outputs": [
    {
     "data": {
      "text/html": [
       "<style scoped>\n",
       "  .ansiout {\n",
       "    display: block;\n",
       "    unicode-bidi: embed;\n",
       "    white-space: pre-wrap;\n",
       "    word-wrap: break-word;\n",
       "    word-break: break-all;\n",
       "    font-family: \"Source Code Pro\", \"Menlo\", monospace;;\n",
       "    font-size: 13px;\n",
       "    color: #555;\n",
       "    margin-left: 4px;\n",
       "    line-height: 19px;\n",
       "  }\n",
       "</style>\n",
       "<div class=\"ansiout\"></div>"
      ]
     },
     "metadata": {},
     "output_type": "display_data"
    }
   ],
   "source": [
    "health_data_df = step_reshaped_df\\\n",
    ".join(weight_reshaped_df,step_reshaped_df['uid_s']==weight_reshaped_df['uid_w'],'outer')\\\n",
    ".join(glucose_reshaped_df,step_reshaped_df['uid_s']==glucose_reshaped_df['uid_g'],'outer')\\\n",
    ".orderBy(step_reshaped_df['uid_s'])\\\n",
    ".drop(*['uid_w','uid_g'])"
   ]
  },
  {
   "cell_type": "code",
   "execution_count": 23,
   "metadata": {},
   "outputs": [
    {
     "data": {
      "text/html": [
       "<style scoped>\n",
       "  .ansiout {\n",
       "    display: block;\n",
       "    unicode-bidi: embed;\n",
       "    white-space: pre-wrap;\n",
       "    word-wrap: break-word;\n",
       "    word-break: break-all;\n",
       "    font-family: \"Source Code Pro\", \"Menlo\", monospace;;\n",
       "    font-size: 13px;\n",
       "    color: #555;\n",
       "    margin-left: 4px;\n",
       "    line-height: 19px;\n",
       "  }\n",
       "</style>\n",
       "<div class=\"ansiout\">+---+----------+------+---------+------------+------------+------------+------------+------------------+\n",
       "uid|country_cd|gender|age_group|2020-04-13_s|2020-04-12_w|2020-04-13_w|2020-04-12_g|      2020-04-13_g|\n",
       "+---+----------+------+---------+------------+------------+------------+------------+------------------+\n",
       "  1|        US|     M|       10|        9843|        null|        76.0|        null|       126.8590446|\n",
       "  2|        BR|     M|       20|        3456|        null|     87.0898|        null|         139.84461|\n",
       "  3|        KR|  null|       30|        2346|        null|       116.8|        null|267.70255199999997|\n",
       "  4|        GB|     F|       40|        7543|        57.0|        null|  131.853492|              null|\n",
       "  5|        DE|     F|       50|        2345|        null|     80.5581|        null|        129.855708|\n",
       "  6|        FR|  null|       30|       11234|        null|       106.5|        null|149.83351199999998|\n",
       "  7|        TR|     F|       20|       14566|        null|        92.0|        null|         93.895668|\n",
       "  8|        RU|     M|       30|        3345|        null|        77.5|        null|              90.0|\n",
       "  9|        IN|     M|       40|        3356|        null|     77.3829|        null|        131.788692|\n",
       " 10|        KR|     M|       50|        7754|        null|        90.0|        null|       126.3604014|\n",
       "+---+----------+------+---------+------------+------------+------------+------------+------------------+\n",
       "\n",
       "</div>"
      ]
     },
     "metadata": {},
     "output_type": "display_data"
    }
   ],
   "source": [
    "res2 = res1.join(health_data_df, health_data_df['uid_s']== res1['uid'])\\\n",
    ".drop('uid_s')\n",
    "\n",
    "# Homework 2\n",
    "res2.show()"
   ]
  },
  {
   "cell_type": "code",
   "execution_count": 24,
   "metadata": {},
   "outputs": [],
   "source": []
  }
 ],
 "metadata": {
  "kernelspec": {
   "display_name": "Python 3",
   "language": "python",
   "name": "python3"
  },
  "language_info": {
   "codemirror_mode": {
    "name": "ipython",
    "version": 3
   },
   "file_extension": ".py",
   "mimetype": "text/x-python",
   "name": "python",
   "nbconvert_exporter": "python",
   "pygments_lexer": "ipython3",
   "version": "3.6.5"
  },
  "name": "2020-05-25 - DBFS Example (1)",
  "notebookId": 1937789233713940
 },
 "nbformat": 4,
 "nbformat_minor": 1
}
